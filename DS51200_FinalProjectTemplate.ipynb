{
 "cells": [
  {
   "cell_type": "markdown",
   "metadata": {},
   "source": [
    "# Final Project Report\n",
    "\n",
    "* Class: DS 5100\n",
    "* Student Name: Kyle Hoffman\n",
    "* Student Net ID: zuc7ze\n",
    "* This URL: https://github.com/HoffieKT/DS5100_FinalProject"
   ]
  },
  {
   "cell_type": "markdown",
   "metadata": {},
   "source": [
    "# Instructions\n",
    "\n",
    "Follow the instructions in the Final Project isntructions notebook and put evidence of your work in this notebook.\n",
    "\n",
    "Total points for each subsection under **Deliverables** and **Scenarios** are given in parentheses.\n",
    "\n",
    "Breakdowns of points within subsections are specified within subsection instructions as bulleted lists.\n",
    "\n",
    "This project is worth **50 points**."
   ]
  },
  {
   "cell_type": "markdown",
   "metadata": {},
   "source": [
    "# Deliverables"
   ]
  },
  {
   "cell_type": "markdown",
   "metadata": {},
   "source": [
    "## The Monte Carlo Module (10)\n",
    "\n",
    "- URL included, appropriately named (1).\n",
    "- Includes all three specified classes (3).\n",
    "- Includes at least all 12 specified methods (6; .5 each)."
   ]
  },
  {
   "cell_type": "markdown",
   "metadata": {},
   "source": [
    "Put the URL to your GitHub repo here.\n",
    "\n",
    "Repo URL: https://github.com/HoffieKT/DS5100_FinalProject"
   ]
  },
  {
   "cell_type": "markdown",
   "metadata": {},
   "source": [
    "Paste a copyy of your module here.\n",
    "\n",
    "NOTE: Paste as text, not as code. Use triple backticks to wrap your code blocks."
   ]
  },
  {
   "cell_type": "code",
   "execution_count": 7,
   "metadata": {},
   "outputs": [],
   "source": [
    "'''\n",
    "import numpy as np\n",
    "import pandas as pd\n",
    "\n",
    "class Die:\n",
    "    \"\"\"\n",
    "    The Die class represents an object that has N sides (faces) and weighted probabilities,\n",
    "    that can be rolled to select a face.\n",
    "    \"\"\"\n",
    "\n",
    "    def __init__(self, faces):\n",
    "        \"\"\"\n",
    "        Creates a Die object and saves the faces and weights of the Die in a private data frame.\n",
    "\n",
    "        Parameters:\n",
    "            faces (np.ndarray): A NumPy array of faces. Array can contain strings or numbers, but \n",
    "                                values must be distinct.\n",
    "\n",
    "        Returns:\n",
    "            N/A\n",
    "        \"\"\"\n",
    "\n",
    "        # Check if faces is the correct dtype\n",
    "        if isinstance(faces, np.ndarray) == False:\n",
    "            raise TypeError('faces needs to be a NumPy array.')\n",
    "        \n",
    "        # Ensure that all the faces are unique (no repeated face values)\n",
    "        if len(faces) != len(set(faces)):\n",
    "            raise ValueError('All of the faces need to be unique.')\n",
    "        \n",
    "        # Save faces and weights (initialized to 1.0) to a private data frame\n",
    "        self.__die_df = pd.DataFrame({'weight': [1.0]*len(faces)}, index = faces)\n",
    "\n",
    "    def weight_changer(self, face_value, new_weight):\n",
    "        \"\"\"\n",
    "        Changes the weight of a specified side (face)\n",
    "\n",
    "        Parameters:\n",
    "            face_value (str | int | float): Face value that is getting its weight changed\n",
    "            new_weight (str | int | float): The new weight for teh specified face\n",
    "\n",
    "        Returns:\n",
    "            N/A\n",
    "        \"\"\"\n",
    "\n",
    "        # Checks if the face value is on the Die\n",
    "        if face_value not in self.__die_df.index:\n",
    "            raise IndexError(str(face_value) + ' is not in faces')\n",
    "        \n",
    "        # See if the new weight is castable to a float (numeric)\n",
    "        try:\n",
    "            new_weight = float(new_weight)\n",
    "        except TypeError:\n",
    "            raise TypeError('Weights need to be numeric.')\n",
    "\n",
    "        # Weight needs to be a value greater than or equal to 1\n",
    "        if new_weight < 0:\n",
    "            raise ValueError('Weights need to be positive numbers, including 0.')\n",
    "        \n",
    "        # Save weight change in the private data frame\n",
    "        self.__die_df.at[face_value, 'weight'] = new_weight\n",
    "\n",
    "    def roll(self, num_rolls=1):\n",
    "        \"\"\"\n",
    "        Rolls the Die a specified number of times\n",
    "\n",
    "        Parameters:\n",
    "            num_rolls (int): Number of times to roll the Die. Defaulted to 1 if not specified.\n",
    "\n",
    "        Returns:\n",
    "            list: List of outcomes from the rolls\n",
    "        \"\"\"\n",
    "\n",
    "        # turn weights into probabilities\n",
    "        probabilities = self.__die_df['weight'] / self.__die_df['weight'].sum()\n",
    "        return list(np.random.choice(self.__die_df.index, size=num_rolls, replace=True, p=probabilities))\n",
    "\n",
    "    def show_currentState(self):\n",
    "        \"\"\"\n",
    "        Shows the current state of the Die\n",
    "\n",
    "        Parameters:\n",
    "            N/A\n",
    "\n",
    "        Returns:\n",
    "            pd.DataFrame: Private Die data frame\n",
    "        \"\"\"\n",
    "\n",
    "        return self.__die_df\n",
    "    \n",
    "class Game:\n",
    "    \"\"\"\n",
    "    The Game class is made up of one or more similar Die objects, where a game of rolling the dice\n",
    "    can happen one or more times.\n",
    "\n",
    "    Similar Die objects simply mean they have the same number of sides and associated faces.\n",
    "    \"\"\"\n",
    "\n",
    "    def __init__(self, die_list):\n",
    "        \"\"\"\n",
    "        Creates the Game object and saves a die list attribute.\n",
    "\n",
    "        Parameters:\n",
    "            die_list (list): A list of similar Die objects\n",
    "\n",
    "        Returns:\n",
    "            N/A\n",
    "        \"\"\"\n",
    "\n",
    "        # Save list of similar Die objects to die_list attribute\n",
    "        self.die_list = die_list\n",
    "\n",
    "    def play(self, num_rolls):\n",
    "        \"\"\"\n",
    "        Rolls the Die object(s) a specified number of times, and saves the results in a private data frame.\n",
    "\n",
    "        Parameters:\n",
    "            num_rolls (int): Number of times to roll the Die object(s)\n",
    "\n",
    "        Returns:\n",
    "            N/A\n",
    "        \"\"\"\n",
    "\n",
    "        # Checks if the number of rolls is an integer greater than 0\n",
    "        if isinstance(num_rolls, int) == False or num_rolls < 1:\n",
    "            raise ValueError('The number of rolls needs to be an integer greater than 0.')\n",
    "        \n",
    "        # Get the results of each roll iteration for all Die object(s)\n",
    "        results = {}\n",
    "        for i in range(len(self.die_list)):\n",
    "            results[i] = self.die_list[i].roll(num_rolls)\n",
    "\n",
    "        # Save the results in a private, wide format data frame with the roll_number as the index\n",
    "        self.__game_df = pd.DataFrame(results)\n",
    "        self.__game_df.index.name = 'roll number'\n",
    "\n",
    "    def show(self, df_form='wide'):\n",
    "        \"\"\"\n",
    "        Shows the results of the most recent play in a specified format\n",
    "\n",
    "        Parameters:\n",
    "            df_form (str): The desired format of the play results. Defaulted to wide format.\n",
    "        \n",
    "        Returns:\n",
    "            pd.DataFrame: A wide or narrow format data frame.\n",
    "        \"\"\"\n",
    "\n",
    "        # Check if a play as occurred by seeing if the private data frame exists yet\n",
    "        if hasattr(self, '_Game__game_df') == False:\n",
    "            raise AttributeError('A game has not been played yet. DataFrame does not exist.')\n",
    "        \n",
    "        # Check if a valid form was asked by the user\n",
    "        if df_form == 'wide':\n",
    "            return self.__game_df\n",
    "        elif df_form == 'narrow':\n",
    "            return self.__game_df.stack()\n",
    "        else:\n",
    "            raise ValueError('Requested form needs to be wide or narrow.')\n",
    "        \n",
    "class Analyzer:\n",
    "    \"\"\"\n",
    "    The Analyzer class is responsible for providing various descriptive statitistical properties\n",
    "    about the results from a single game.\n",
    "    \"\"\"\n",
    "\n",
    "    def __init__(self, game):\n",
    "        \"\"\"\n",
    "        Creates an Analyzer object\n",
    "\n",
    "        Parameters:\n",
    "            game (Game): A game\n",
    "\n",
    "        Returns:\n",
    "            N/A\n",
    "        \"\"\"\n",
    "        if isinstance(game, Game) == False:\n",
    "            raise ValueError('Analyzer class was initialized with an object that was not a Game object.')\n",
    "\n",
    "        self.game = game\n",
    "        self.results = self.game.show()\n",
    "\n",
    "    def jackpot(self):\n",
    "        \"\"\"\n",
    "        Calculates how many times a jackpot (all faces were the same) was hit in a game.\n",
    "\n",
    "        Parameters:\n",
    "            N/A\n",
    "\n",
    "        Returns:\n",
    "            int: The number of jackpots hit\n",
    "        \"\"\"\n",
    "        return int(self.results.apply(lambda row: row.nunique() == 1, axis = 1).sum())\n",
    "\n",
    "    def face_counts(self):\n",
    "        \"\"\"\n",
    "        Determines how many times a given face value was rolled in each iteration.\n",
    "\n",
    "        Parameters:\n",
    "            N/A\n",
    "\n",
    "        Returns:\n",
    "            pd.DataFrame: Wide format data frame with roll number as index, face values as columns\n",
    "                          and count values in the cells.\n",
    "        \"\"\"\n",
    "        return self.results.apply(lambda row: row.value_counts(), axis=1).fillna(0).astype(int)\n",
    "\n",
    "    def combo_counts(self):\n",
    "        \"\"\"\n",
    "        Computes the count of distinct combinations of faces rolled.\n",
    "\n",
    "        Parameters:\n",
    "            N/A\n",
    "\n",
    "        Returns:\n",
    "            pd.DataFrame: MultiIndex data frame with the combinations as indices, and a column of \n",
    "                          associated counts.\n",
    "        \"\"\"\n",
    "\n",
    "        # Get the distinct combinations\n",
    "        combinations = self.results.apply(lambda row: tuple(sorted(row)), axis = 1)\n",
    "        # Get the counts of the distinct combinations\n",
    "        comboCount_df = combinations.value_counts().to_frame('count')\n",
    "        # Turn tuple single index into a MultiIndex\n",
    "        comboCount_df.index = pd.MultiIndex.from_tuples(comboCount_df.index, names = self.results.columns)\n",
    "        return comboCount_df\n",
    "\n",
    "    def permutation_counts(self):\n",
    "        \"\"\"\n",
    "        Computes the count of distinct permutations of faces rolled.\n",
    "\n",
    "        Parameters:\n",
    "            N/A\n",
    "\n",
    "        Returns:\n",
    "            pd.DataFrame: MultiIndex data frame with the permutations as indices, and a column of \n",
    "                          associated counts.\n",
    "        \"\"\"\n",
    "\n",
    "        # Get the distinct permutations\n",
    "        permutations = self.results.apply(lambda row: tuple(row), axis = 1)\n",
    "        # Get the counts of the distinct permutations\n",
    "        permCount_df = permutations.value_counts().to_frame('count')\n",
    "        # Turn the tuple single index into a MultiIndex\n",
    "        permCount_df.index = pd.MultiIndex.from_tuples(permCount_df.index, names = self.results.columns)\n",
    "        return permCount_df\n",
    "'''"
   ]
  },
  {
   "cell_type": "markdown",
   "metadata": {},
   "source": [
    "## Unitest Module (2)\n",
    "\n",
    "Paste a copy of your test module below.\n",
    "\n",
    "NOTE: Paste as text, not as code. Use triple backticks to wrap your code blocks.\n",
    "\n",
    "- All methods have at least one test method (1).\n",
    "- Each method employs one of Unittest's Assert methods (1)."
   ]
  },
  {
   "cell_type": "code",
   "execution_count": null,
   "metadata": {},
   "outputs": [],
   "source": [
    "'''\n",
    "import unittest\n",
    "import numpy as np\n",
    "import pandas as pd\n",
    "from montecarlo import Die, Game, Analyzer\n",
    "\n",
    "class MonteCarloTestSuite(unittest.TestCase):\n",
    "\n",
    "    def test_Die__init__(self):\n",
    "        self.assertTrue(Die(np.array(['H', 'T'])), Die)\n",
    "\n",
    "    def test_Die_weight_changer(self):\n",
    "        die = Die(np.array(['H', 'T']))\n",
    "        die.weight_changer('T', 5)\n",
    "        self.assertEqual(die.show_currentState().loc['T', 'weight'], 5)\n",
    "\n",
    "    def test_Die_roll(self):\n",
    "        die = Die(np.array(['H', 'T']))\n",
    "        results = die.roll(10)\n",
    "        self.assertTrue(isinstance(results, list))\n",
    "        self.assertEqual(len(results), 10)\n",
    "\n",
    "    def test_Die_show_currentState(self):\n",
    "        die = Die(np.array(['H', 'T']))\n",
    "        self.assertTrue(isinstance(die.show_currentState(), pd.DataFrame))\n",
    "\n",
    "    def test_Game__init__(self):\n",
    "        die = Die(np.array(['H', 'T']))\n",
    "        self.assertTrue(isinstance(Game([die, die]), Game))\n",
    "\n",
    "    def test_Game_play(self):\n",
    "        die = Die(np.array(['H', 'T']))\n",
    "        game = Game([die, die])\n",
    "        game.play(num_rolls=5)\n",
    "        self.assertEqual(game.show().index.nlevels, 1)\n",
    "\n",
    "    def test_Game_show(self):\n",
    "        die = Die(np.array(['H', 'T']))\n",
    "        game = Game([die, die])\n",
    "        game.play(num_rolls=5)\n",
    "        self.assertTrue(isinstance(game.show(df_form='narrow').index, pd.MultiIndex))\n",
    "\n",
    "    def test_Analyzer__init__(self):\n",
    "        die = Die(np.array(['H', 'T']))\n",
    "        game = Game([die, die])\n",
    "        game.play(num_rolls=5)\n",
    "        self.assertTrue(isinstance(Analyzer(game), Analyzer))\n",
    "\n",
    "    def test_Analyzer_jackpot(self):\n",
    "        die = Die(np.array(['H', 'T']))\n",
    "        game = Game([die, die])\n",
    "        game.play(num_rolls=5)\n",
    "        analyzer = Analyzer(game)\n",
    "        self.assertTrue(isinstance(analyzer.jackpot(), int))\n",
    "\n",
    "    def test_Analyzer_face_counts(self):\n",
    "        die = Die(np.array(['H', 'T']))\n",
    "        game = Game([die, die])\n",
    "        game.play(num_rolls=5)\n",
    "        analyzer = Analyzer(game)\n",
    "        self.assertTrue(isinstance(analyzer.face_counts(), pd.DataFrame))\n",
    "\n",
    "    def test_Analyzer_combo_counts(self):\n",
    "        die = Die(np.array(['H', 'T']))\n",
    "        game = Game([die, die])\n",
    "        game.play(num_rolls=5)\n",
    "        analyzer = Analyzer(game)\n",
    "        self.assertTrue(isinstance(analyzer.combo_counts().index, pd.MultiIndex))\n",
    "\n",
    "    def test_Analyzer_permutation_counts(self):\n",
    "        die = Die(np.array(['H', 'T']))\n",
    "        game = Game([die, die])\n",
    "        game.play(num_rolls=5)\n",
    "        analyzer = Analyzer(game)\n",
    "        self.assertTrue(isinstance(analyzer.permutation_counts().index, pd.MultiIndex))\n",
    "\n",
    "if __name__ == '__main__':\n",
    "    unittest.main(verbosity=3)\n",
    "'''"
   ]
  },
  {
   "cell_type": "markdown",
   "metadata": {
    "tags": []
   },
   "source": [
    "## Unittest Results (3)\n",
    "\n",
    "Put a copy of the results of running your tests from the command line here.\n",
    "\n",
    "Again, paste as text using triple backticks.\n",
    "\n",
    "- All 12 specified methods return OK (3; .25 each)."
   ]
  },
  {
   "cell_type": "raw",
   "metadata": {
    "tags": []
   },
   "source": [
    "test_Analyzer__init__ (__main__.MonteCarloTestSuite.test_Analyzer__init__) ... ok\n",
    "test_Analyzer_combo_counts (__main__.MonteCarloTestSuite.test_Analyzer_combo_counts) ... ok\n",
    "test_Analyzer_face_counts (__main__.MonteCarloTestSuite.test_Analyzer_face_counts) ... ok\n",
    "test_Analyzer_jackpot (__main__.MonteCarloTestSuite.test_Analyzer_jackpot) ... ok\n",
    "test_Analyzer_permutation_counts (__main__.MonteCarloTestSuite.test_Analyzer_permutation_counts) ... ok\n",
    "test_Die__init__ (__main__.MonteCarloTestSuite.test_Die__init__) ... ok\n",
    "test_Die_roll (__main__.MonteCarloTestSuite.test_Die_roll) ... ok\n",
    "test_Die_show_currentState (__main__.MonteCarloTestSuite.test_Die_show_currentState) ... ok\n",
    "test_Die_weight_changer (__main__.MonteCarloTestSuite.test_Die_weight_changer) ... ok\n",
    "test_Game__init__ (__main__.MonteCarloTestSuite.test_Game__init__) ... ok\n",
    "test_Game_play (__main__.MonteCarloTestSuite.test_Game_play) ... ok\n",
    "test_Game_show (__main__.MonteCarloTestSuite.test_Game_show) ... ok\n",
    "\n",
    "----------------------------------------------------------------------\n",
    "Ran 12 tests in 0.024s\n",
    "\n",
    "OK"
   ]
  },
  {
   "cell_type": "markdown",
   "metadata": {},
   "source": [
    "## Import (1)\n",
    "\n",
    "Import your module here. This import should refer to the code in your package directory.\n",
    "\n",
    "- Module successuflly imported (1)."
   ]
  },
  {
   "cell_type": "code",
   "execution_count": 1,
   "metadata": {
    "tags": []
   },
   "outputs": [],
   "source": [
    "# e.g. import montecarlo.montecarlo \n",
    "import montecarlo.montecarlo"
   ]
  },
  {
   "cell_type": "markdown",
   "metadata": {},
   "source": [
    "## Help Docs (4)\n",
    "\n",
    "Show your docstring documentation by applying `help()` to your imported module.\n",
    "\n",
    "- All methods have a docstring (3; .25 each).\n",
    "- All classes have a docstring (1; .33 each)."
   ]
  },
  {
   "cell_type": "code",
   "execution_count": 2,
   "metadata": {
    "tags": []
   },
   "outputs": [
    {
     "name": "stdout",
     "output_type": "stream",
     "text": [
      "Help on module montecarlo.montecarlo in montecarlo:\n",
      "\n",
      "NAME\n",
      "    montecarlo.montecarlo\n",
      "\n",
      "CLASSES\n",
      "    builtins.object\n",
      "        Analyzer\n",
      "        Die\n",
      "        Game\n",
      "    \n",
      "    class Analyzer(builtins.object)\n",
      "     |  Analyzer(game)\n",
      "     |  \n",
      "     |  The Analyzer class is responsible for providing various descriptive statitistical properties\n",
      "     |  about the results from a single game.\n",
      "     |  \n",
      "     |  Methods defined here:\n",
      "     |  \n",
      "     |  __init__(self, game)\n",
      "     |      Creates an Analyzer object\n",
      "     |      \n",
      "     |      Parameters:\n",
      "     |          game (Game): A game\n",
      "     |      \n",
      "     |      Returns:\n",
      "     |          N/A\n",
      "     |  \n",
      "     |  combo_counts(self)\n",
      "     |      Computes the count of distinct combinations of faces rolled.\n",
      "     |      \n",
      "     |      Parameters:\n",
      "     |          N/A\n",
      "     |      \n",
      "     |      Returns:\n",
      "     |          pd.DataFrame: MultiIndex data frame with the combinations as indices, and a column of \n",
      "     |                        associated counts.\n",
      "     |  \n",
      "     |  face_counts(self)\n",
      "     |      Determines how many times a given face value was rolled in each iteration.\n",
      "     |      \n",
      "     |      Parameters:\n",
      "     |          N/A\n",
      "     |      \n",
      "     |      Returns:\n",
      "     |          pd.DataFrame: Wide format data frame with roll number as index, face values as columns\n",
      "     |                        and count values in the cells.\n",
      "     |  \n",
      "     |  jackpot(self)\n",
      "     |      Calculates how many times a jackpot (all faces were the same) was hit in a game.\n",
      "     |      \n",
      "     |      Parameters:\n",
      "     |          N/A\n",
      "     |      \n",
      "     |      Returns:\n",
      "     |          int: The number of jackpots hit\n",
      "     |  \n",
      "     |  permutation_counts(self)\n",
      "     |      Computes the count of distinct permutations of faces rolled.\n",
      "     |      \n",
      "     |      Parameters:\n",
      "     |          N/A\n",
      "     |      \n",
      "     |      Returns:\n",
      "     |          pd.DataFrame: MultiIndex data frame with the permutations as indices, and a column of \n",
      "     |                        associated counts.\n",
      "     |  \n",
      "     |  ----------------------------------------------------------------------\n",
      "     |  Data descriptors defined here:\n",
      "     |  \n",
      "     |  __dict__\n",
      "     |      dictionary for instance variables (if defined)\n",
      "     |  \n",
      "     |  __weakref__\n",
      "     |      list of weak references to the object (if defined)\n",
      "    \n",
      "    class Die(builtins.object)\n",
      "     |  Die(faces)\n",
      "     |  \n",
      "     |  The Die class represents an object that has N sides (faces) and weighted probabilities,\n",
      "     |  that can be rolled to select a face.\n",
      "     |  \n",
      "     |  Methods defined here:\n",
      "     |  \n",
      "     |  __init__(self, faces)\n",
      "     |      Creates a Die object and saves the faces and weights of the Die in a private data frame.\n",
      "     |      \n",
      "     |      Parameters:\n",
      "     |          faces (np.ndarray): A NumPy array of faces. Array can contain strings or numbers, but \n",
      "     |                              values must be distinct.\n",
      "     |      \n",
      "     |      Returns:\n",
      "     |          N/A\n",
      "     |  \n",
      "     |  roll(self, num_rolls=1)\n",
      "     |      Rolls the Die a specified number of times\n",
      "     |      \n",
      "     |      Parameters:\n",
      "     |          num_rolls (int): Number of times to roll the Die. Defaulted to 1 if not specified.\n",
      "     |      \n",
      "     |      Returns:\n",
      "     |          list: List of outcomes from the rolls\n",
      "     |  \n",
      "     |  show_currentState(self)\n",
      "     |      Shows the current state of the Die\n",
      "     |      \n",
      "     |      Parameters:\n",
      "     |          N/A\n",
      "     |      \n",
      "     |      Returns:\n",
      "     |          pd.DataFrame: Private Die data frame\n",
      "     |  \n",
      "     |  weight_changer(self, face_value, new_weight)\n",
      "     |      Changes the weight of a specified side (face)\n",
      "     |      \n",
      "     |      Parameters:\n",
      "     |          face_value (str | int | float): Face value that is getting its weight changed\n",
      "     |          new_weight (str | int | float): The new weight for teh specified face\n",
      "     |      \n",
      "     |      Returns:\n",
      "     |          N/A\n",
      "     |  \n",
      "     |  ----------------------------------------------------------------------\n",
      "     |  Data descriptors defined here:\n",
      "     |  \n",
      "     |  __dict__\n",
      "     |      dictionary for instance variables (if defined)\n",
      "     |  \n",
      "     |  __weakref__\n",
      "     |      list of weak references to the object (if defined)\n",
      "    \n",
      "    class Game(builtins.object)\n",
      "     |  Game(die_list)\n",
      "     |  \n",
      "     |  The Game class is made up of one or more similar Die objects, where a game of rolling the dice\n",
      "     |  can happen one or more times.\n",
      "     |  \n",
      "     |  Similar Die objects simply mean they have the same number of sides and associated faces.\n",
      "     |  \n",
      "     |  Methods defined here:\n",
      "     |  \n",
      "     |  __init__(self, die_list)\n",
      "     |      Creates the Game object and saves a die list attribute.\n",
      "     |      \n",
      "     |      Parameters:\n",
      "     |          die_list (list): A list of similar Die objects\n",
      "     |      \n",
      "     |      Returns:\n",
      "     |          N/A\n",
      "     |  \n",
      "     |  play(self, num_rolls)\n",
      "     |      Rolls the Die object(s) a specified number of times, and saves the results in a private data frame.\n",
      "     |      \n",
      "     |      Parameters:\n",
      "     |          num_rolls (int): Number of times to roll the Die object(s)\n",
      "     |      \n",
      "     |      Returns:\n",
      "     |          pd.DataFrame: Wide format data frame that contains the results of the play\n",
      "     |  \n",
      "     |  show(self, df_form='wide')\n",
      "     |      Shows the results of the most recent play in a specified format\n",
      "     |      \n",
      "     |      Parameters:\n",
      "     |          df_form (str): The desired format of the play results. Defaulted to wide format.\n",
      "     |      \n",
      "     |      Returns:\n",
      "     |          pd.DataFrame: A wide or narrow format data frame.\n",
      "     |  \n",
      "     |  ----------------------------------------------------------------------\n",
      "     |  Data descriptors defined here:\n",
      "     |  \n",
      "     |  __dict__\n",
      "     |      dictionary for instance variables (if defined)\n",
      "     |  \n",
      "     |  __weakref__\n",
      "     |      list of weak references to the object (if defined)\n",
      "\n",
      "FILE\n",
      "    c:\\users\\pc 2\\downloads\\ds5100_final_project_files\\montecarlo\\montecarlo.py\n",
      "\n",
      "\n"
     ]
    }
   ],
   "source": [
    "# help(montecarlo)\n",
    "help(montecarlo.montecarlo)"
   ]
  },
  {
   "cell_type": "markdown",
   "metadata": {},
   "source": [
    "## `README.md` File (3)\n",
    "\n",
    "Provide link to the README.md file of your project's repo.\n",
    "\n",
    "- Metadata section or info present (1).\n",
    "- Synopsis section showing how each class is called (1). (All must be included.)\n",
    "- API section listing all classes and methods (1). (All must be included.)"
   ]
  },
  {
   "cell_type": "markdown",
   "metadata": {},
   "source": [
    "URL: https://github.com/HoffieKT/DS5100_FinalProject/blob/main/README.md"
   ]
  },
  {
   "cell_type": "markdown",
   "metadata": {},
   "source": [
    "## Successful installation (2)\n",
    "\n",
    "Put a screenshot or paste a copy of a terminal session where you successfully install your module with pip.\n",
    "\n",
    "If pasting text, use a preformatted text block to show the results.\n",
    "\n",
    "- Installed with `pip` (1).\n",
    "- Successfully installed message appears (1)."
   ]
  },
  {
   "cell_type": "raw",
   "metadata": {},
   "source": [
    "PS C:\\Users\\PC 2> pip install montecarlo\n",
    "Collecting montecarlo\n",
    "  Downloading montecarlo-0.1.17.tar.gz (1.3 kB)\n",
    "  Installing build dependencies ... done\n",
    "  Getting requirements to build wheel ... done\n",
    "  Preparing metadata (pyproject.toml) ... done\n",
    "Building wheels for collected packages: montecarlo\n",
    "  Building wheel for montecarlo (pyproject.toml) ... done\n",
    "  Created wheel for montecarlo: filename=montecarlo-0.1.17-py3-none-any.whl size=1891 sha256=1514ff805c02e568d449c6778f7e9541353aa5005ba60c1a516003889202c036\n",
    "  Stored in directory: c:\\users\\pc 2\\appdata\\local\\pip\\cache\\wheels\\3a\\3e\\71\\44ca4e30f1af7ca5936351edc7b3fcf7e611b60582fb488545  \n",
    "Successfully built montecarlo\n",
    "Installing collected packages: montecarlo\n",
    "Successfully installed montecarlo-0.1.17# Pasted code"
   ]
  },
  {
   "cell_type": "markdown",
   "metadata": {},
   "source": [
    "# Scenarios\n",
    "\n",
    "Use code blocks to perform the tasks for each scenario.\n",
    "\n",
    "Be sure the outputs are visible before submitting."
   ]
  },
  {
   "cell_type": "markdown",
   "metadata": {
    "jp-MarkdownHeadingCollapsed": true,
    "tags": []
   },
   "source": [
    "## Scenario 1: A 2-headed Coin (9)\n",
    "\n",
    "Task 1. Create a fair coin (with faces $H$ and $T$) and one unfair coin in which one of the faces has a weight of $5$ and the others $1$.\n",
    "\n",
    "- Fair coin created (1).\n",
    "- Unfair coin created with weight as specified (1)."
   ]
  },
  {
   "cell_type": "code",
   "execution_count": 4,
   "metadata": {},
   "outputs": [],
   "source": [
    "import numpy as np\n",
    "import pandas as pd\n",
    "import matplotlib.pyplot as plt"
   ]
  },
  {
   "cell_type": "code",
   "execution_count": 7,
   "metadata": {},
   "outputs": [],
   "source": [
    "fair_coin = montecarlo.montecarlo.Die(np.array(['H', 'T']))\n",
    "\n",
    "unfair_coin = montecarlo.montecarlo.Die(np.array(['H', 'T']))\n",
    "unfair_coin.weight_changer('T', 5)"
   ]
  },
  {
   "cell_type": "markdown",
   "metadata": {},
   "source": [
    "Task 2. Play a game of $1000$ flips with two fair dice.\n",
    "\n",
    "- Play method called correclty and without error (1)."
   ]
  },
  {
   "cell_type": "code",
   "execution_count": 8,
   "metadata": {},
   "outputs": [],
   "source": [
    "coin_game = montecarlo.montecarlo.Game([fair_coin, unfair_coin])"
   ]
  },
  {
   "cell_type": "code",
   "execution_count": 9,
   "metadata": {},
   "outputs": [],
   "source": [
    "coin_game.play(num_rolls = 1000)"
   ]
  },
  {
   "cell_type": "markdown",
   "metadata": {},
   "source": [
    "Task 3. Play another game (using a new Game object) of $1000$ flips, this time using two unfair dice and one fair die. For the second unfair die, you can use the same die object twice in the list of dice you pass to the Game object.\n",
    "\n",
    "- New game object created (1).\n",
    "- Play method called correclty and without error (1)."
   ]
  },
  {
   "cell_type": "code",
   "execution_count": 10,
   "metadata": {},
   "outputs": [],
   "source": [
    "coin_game2 = montecarlo.montecarlo.Game([fair_coin, unfair_coin, unfair_coin])"
   ]
  },
  {
   "cell_type": "code",
   "execution_count": 13,
   "metadata": {},
   "outputs": [],
   "source": [
    "coin_game2.play(num_rolls = 1000)"
   ]
  },
  {
   "cell_type": "markdown",
   "metadata": {},
   "source": [
    "Task 4. For each game, use an Analyzer object to determine the raw frequency of jackpots — i.e. getting either all $H$s or all $T$s.\n",
    "\n",
    "- Analyzer objecs instantiated for both games (1).\n",
    "- Raw frequencies reported for both (1)."
   ]
  },
  {
   "cell_type": "code",
   "execution_count": 15,
   "metadata": {},
   "outputs": [
    {
     "data": {
      "text/plain": [
       "495"
      ]
     },
     "execution_count": 15,
     "metadata": {},
     "output_type": "execute_result"
    }
   ],
   "source": [
    "game_analyzer1 = montecarlo.montecarlo.Analyzer(coin_game)\n",
    "game1_jackpot = game_analyzer1.jackpot()\n",
    "game1_jackpot"
   ]
  },
  {
   "cell_type": "code",
   "execution_count": 16,
   "metadata": {},
   "outputs": [
    {
     "data": {
      "text/plain": [
       "354"
      ]
     },
     "execution_count": 16,
     "metadata": {},
     "output_type": "execute_result"
    }
   ],
   "source": [
    "game_analyzer2 = montecarlo.montecarlo.Analyzer(coin_game2)\n",
    "game2_jackpot = game_analyzer2.jackpot()\n",
    "game2_jackpot"
   ]
  },
  {
   "cell_type": "markdown",
   "metadata": {},
   "source": [
    "Task 5. For each analyzer, compute relative frequency as the number of jackpots over the total number of rolls.\n",
    "\n",
    "- Both relative frequencies computed (1)."
   ]
  },
  {
   "cell_type": "code",
   "execution_count": 20,
   "metadata": {},
   "outputs": [
    {
     "data": {
      "text/plain": [
       "0.495"
      ]
     },
     "execution_count": 20,
     "metadata": {},
     "output_type": "execute_result"
    }
   ],
   "source": [
    "rel_freq1 = game1_jackpot / 1000\n",
    "rel_freq1"
   ]
  },
  {
   "cell_type": "code",
   "execution_count": 21,
   "metadata": {},
   "outputs": [
    {
     "data": {
      "text/plain": [
       "0.354"
      ]
     },
     "execution_count": 21,
     "metadata": {},
     "output_type": "execute_result"
    }
   ],
   "source": [
    "rel_freq2 = game2_jackpot / 1000\n",
    "rel_freq2"
   ]
  },
  {
   "cell_type": "markdown",
   "metadata": {},
   "source": [
    "Task 6. Show your results, comparing the two relative frequencies, in a simple bar chart.\n",
    "\n",
    "- Bar chart plotted and correct (1)."
   ]
  },
  {
   "cell_type": "code",
   "execution_count": 26,
   "metadata": {},
   "outputs": [
    {
     "data": {
      "image/png": "[encoded data removed]",
      "text/plain": [
       "<Figure size 432x288 with 1 Axes>"
      ]
     },
     "metadata": {
      "needs_background": "light"
     },
     "output_type": "display_data"
    }
   ],
   "source": [
    "plt.bar(['Game 1', 'Game 2'], [rel_freq1, rel_freq2], color = ['lime', 'magenta'])\n",
    "plt.show()"
   ]
  },
  {
   "cell_type": "markdown",
   "metadata": {},
   "source": [
    "## Scenario 2: A 6-sided Die (9)\n",
    "\n",
    "Task 1. Create three dice, each with six sides having the faces 1 through 6.\n",
    "\n",
    "- Three die objects created (1)."
   ]
  },
  {
   "cell_type": "code",
   "execution_count": 27,
   "metadata": {},
   "outputs": [],
   "source": [
    "die1 = montecarlo.montecarlo.Die(np.array(['1', '2', '3', '4', '5', '6']))\n",
    "die2 = montecarlo.montecarlo.Die(np.array(['1', '2', '3', '4', '5', '6']))\n",
    "die3 = montecarlo.montecarlo.Die(np.array(['1', '2', '3', '4', '5', '6']))"
   ]
  },
  {
   "cell_type": "markdown",
   "metadata": {},
   "source": [
    "Task 2. Convert one of the dice to an unfair one by weighting the face $6$ five times more than the other weights (i.e. it has weight of 5 and the others a weight of 1 each).\n",
    "\n",
    "- Unfair die created with proper call to weight change method (1)."
   ]
  },
  {
   "cell_type": "code",
   "execution_count": 28,
   "metadata": {},
   "outputs": [],
   "source": [
    "die3.weight_changer('6', 5)"
   ]
  },
  {
   "cell_type": "markdown",
   "metadata": {},
   "source": [
    "Task 3. Convert another of the dice to be unfair by weighting the face $1$ five times more than the others.\n",
    "\n",
    "- Unfair die created with proper call to weight change method (1)."
   ]
  },
  {
   "cell_type": "code",
   "execution_count": 29,
   "metadata": {},
   "outputs": [],
   "source": [
    "die1.weight_changer('1', 5)"
   ]
  },
  {
   "cell_type": "markdown",
   "metadata": {},
   "source": [
    "Task 4. Play a game of $10000$ rolls with $5$ fair dice.\n",
    "\n",
    "- Game class properly instantiated (1). \n",
    "- Play method called properly (1)."
   ]
  },
  {
   "cell_type": "code",
   "execution_count": 30,
   "metadata": {},
   "outputs": [],
   "source": [
    "die_game1 = montecarlo.montecarlo.Game([die2, die2, die2, die2, die2])"
   ]
  },
  {
   "cell_type": "code",
   "execution_count": 31,
   "metadata": {},
   "outputs": [],
   "source": [
    "die_game1.play(num_rolls = 10000)"
   ]
  },
  {
   "cell_type": "markdown",
   "metadata": {},
   "source": [
    "Task 5. Play another game of $10000$ rolls, this time with $2$ unfair dice, one as defined in steps #2 and #3 respectively, and $3$ fair dice.\n",
    "\n",
    "- Game class properly instantiated (1). \n",
    "- Play method called properly (1)."
   ]
  },
  {
   "cell_type": "code",
   "execution_count": 32,
   "metadata": {},
   "outputs": [],
   "source": [
    "die_game2 = montecarlo.montecarlo.Game([die3, die1, die2, die2, die2])"
   ]
  },
  {
   "cell_type": "code",
   "execution_count": 33,
   "metadata": {},
   "outputs": [],
   "source": [
    "die_game2.play(num_rolls = 10000)"
   ]
  },
  {
   "cell_type": "markdown",
   "metadata": {},
   "source": [
    "Task 6. For each game, use an Analyzer object to determine the relative frequency of jackpots and show your results, comparing the two relative frequencies, in a simple bar chart.\n",
    "\n",
    "- Jackpot methods called (1).\n",
    "- Graph produced (1)."
   ]
  },
  {
   "cell_type": "code",
   "execution_count": 35,
   "metadata": {},
   "outputs": [
    {
     "name": "stdout",
     "output_type": "stream",
     "text": [
      "0.0006\n",
      "0.0014\n"
     ]
    }
   ],
   "source": [
    "die_analyzer1 = montecarlo.montecarlo.Analyzer(die_game1)\n",
    "die_analyzer2 = montecarlo.montecarlo.Analyzer(die_game2)\n",
    "\n",
    "die_relFreq1 = die_analyzer1.jackpot() / 10000\n",
    "die_relFreq2 = die_analyzer2.jackpot() / 10000\n",
    "\n",
    "print(die_relFreq1)\n",
    "print(die_relFreq2)"
   ]
  },
  {
   "cell_type": "code",
   "execution_count": 36,
   "metadata": {},
   "outputs": [
    {
     "data": {
      "image/png": "[encoded data removed]",
      "text/plain": [
       "<Figure size 432x288 with 1 Axes>"
      ]
     },
     "metadata": {
      "needs_background": "light"
     },
     "output_type": "display_data"
    }
   ],
   "source": [
    "plt.bar(['Game 1', 'Game 2'], [die_relFreq1, die_relFreq2], color = ['pink', 'skyblue'])\n",
    "plt.show()"
   ]
  },
  {
   "cell_type": "markdown",
   "metadata": {},
   "source": [
    "## Scenario 3: Letters of the Alphabet (7)\n",
    "\n",
    "Task 1. Create a \"die\" of letters from $A$ to $Z$ with weights based on their frequency of usage as found in the data file `english_letters.txt`. Use the frequencies (i.e. raw counts) as weights.\n",
    "\n",
    "- Die correctly instantiated with source file data (1).\n",
    "- Weights properly applied using weight setting method (1)."
   ]
  },
  {
   "cell_type": "code",
   "execution_count": 5,
   "metadata": {},
   "outputs": [
    {
     "data": {
      "text/html": [
       "<div>\n",
       "<style scoped>\n",
       "    .dataframe tbody tr th:only-of-type {\n",
       "        vertical-align: middle;\n",
       "    }\n",
       "\n",
       "    .dataframe tbody tr th {\n",
       "        vertical-align: top;\n",
       "    }\n",
       "\n",
       "    .dataframe thead th {\n",
       "        text-align: right;\n",
       "    }\n",
       "</style>\n",
       "<table border=\"1\" class=\"dataframe\">\n",
       "  <thead>\n",
       "    <tr style=\"text-align: right;\">\n",
       "      <th></th>\n",
       "      <th>Letters</th>\n",
       "      <th>Freq</th>\n",
       "    </tr>\n",
       "  </thead>\n",
       "  <tbody>\n",
       "    <tr>\n",
       "      <td>0</td>\n",
       "      <td>E</td>\n",
       "      <td>529117365</td>\n",
       "    </tr>\n",
       "    <tr>\n",
       "      <td>1</td>\n",
       "      <td>T</td>\n",
       "      <td>390965105</td>\n",
       "    </tr>\n",
       "    <tr>\n",
       "      <td>2</td>\n",
       "      <td>A</td>\n",
       "      <td>374061888</td>\n",
       "    </tr>\n",
       "    <tr>\n",
       "      <td>3</td>\n",
       "      <td>O</td>\n",
       "      <td>326627740</td>\n",
       "    </tr>\n",
       "    <tr>\n",
       "      <td>4</td>\n",
       "      <td>I</td>\n",
       "      <td>320410057</td>\n",
       "    </tr>\n",
       "  </tbody>\n",
       "</table>\n",
       "</div>"
      ],
      "text/plain": [
       "  Letters       Freq\n",
       "0       E  529117365\n",
       "1       T  390965105\n",
       "2       A  374061888\n",
       "3       O  326627740\n",
       "4       I  320410057"
      ]
     },
     "execution_count": 5,
     "metadata": {},
     "output_type": "execute_result"
    }
   ],
   "source": [
    "letters_df = pd.read_csv(r'english_letters.txt', sep = ' ', header = None)\n",
    "letters_df.columns = ['Letters', 'Freq']\n",
    "letters_df.head()"
   ]
  },
  {
   "cell_type": "code",
   "execution_count": 6,
   "metadata": {},
   "outputs": [],
   "source": [
    "letter_die = montecarlo.montecarlo.Die(np.array(letters_df.Letters.tolist()))"
   ]
  },
  {
   "cell_type": "code",
   "execution_count": 7,
   "metadata": {},
   "outputs": [],
   "source": [
    "for index, row in letters_df.iterrows():\n",
    "    letter_die.weight_changer(row['Letters'], row['Freq'])"
   ]
  },
  {
   "cell_type": "markdown",
   "metadata": {},
   "source": [
    "Task 2. Play a game involving $4$ of these dice with $1000$ rolls.\n",
    "\n",
    "- Game play method properly called (1)."
   ]
  },
  {
   "cell_type": "code",
   "execution_count": 8,
   "metadata": {},
   "outputs": [],
   "source": [
    "letter_game = montecarlo.montecarlo.Game([letter_die, letter_die, letter_die, letter_die])"
   ]
  },
  {
   "cell_type": "code",
   "execution_count": 9,
   "metadata": {},
   "outputs": [],
   "source": [
    "letter_game.play(num_rolls = 1000)"
   ]
  },
  {
   "cell_type": "markdown",
   "metadata": {},
   "source": [
    "Task 3. Determine how many permutations in your results are actual English words, based on the vocabulary found in `scrabble_words.txt`.\n",
    "\n",
    "- Use permutation method (1).\n",
    "- Get count as difference between permutations and vocabulary (1)."
   ]
  },
  {
   "cell_type": "code",
   "execution_count": 46,
   "metadata": {},
   "outputs": [
    {
     "data": {
      "text/plain": [
       "['AA', 'AAH', 'AAHED', 'AAHING', 'AAHS']"
      ]
     },
     "execution_count": 46,
     "metadata": {},
     "output_type": "execute_result"
    }
   ],
   "source": [
    "words_df = pd.read_csv(r'scrabble_words.txt', header = None)\n",
    "words = words_df.loc[:,0].tolist()\n",
    "words[0:5]"
   ]
  },
  {
   "cell_type": "code",
   "execution_count": 11,
   "metadata": {},
   "outputs": [],
   "source": [
    "letter_analyzer = montecarlo.montecarlo.Analyzer(letter_game)"
   ]
  },
  {
   "cell_type": "code",
   "execution_count": 12,
   "metadata": {},
   "outputs": [],
   "source": [
    "permutations = letter_analyzer.permutation_counts()"
   ]
  },
  {
   "cell_type": "code",
   "execution_count": 33,
   "metadata": {},
   "outputs": [],
   "source": [
    "permutation_idx = permutations.index.to_flat_index()"
   ]
  },
  {
   "cell_type": "code",
   "execution_count": 39,
   "metadata": {},
   "outputs": [
    {
     "data": {
      "text/plain": [
       "['OSUE', 'OTEE', 'MERS', 'EIRA', 'AHOE']"
      ]
     },
     "execution_count": 39,
     "metadata": {},
     "output_type": "execute_result"
    }
   ],
   "source": [
    "permutation_idxList = [\"\".join(list(item)) for item in permutation_idx]\n",
    "permutation_idxList[0:5]"
   ]
  },
  {
   "cell_type": "code",
   "execution_count": 48,
   "metadata": {},
   "outputs": [
    {
     "data": {
      "text/plain": [
       "50"
      ]
     },
     "execution_count": 48,
     "metadata": {},
     "output_type": "execute_result"
    }
   ],
   "source": [
    "diff = [item for item in permutation_idxList if item not in words]\n",
    "diff_count = len(diff)\n",
    "len(permutation_idxList) - diff_count"
   ]
  },
  {
   "cell_type": "markdown",
   "metadata": {},
   "source": [
    "Task 4. Repeat steps #2 and #3, this time with $5$ dice. How many actual words does this produce? Which produces more?\n",
    "\n",
    "- Successfully repreats steps (1).\n",
    "- Identifies parameter with most found words (1)."
   ]
  },
  {
   "cell_type": "code",
   "execution_count": 50,
   "metadata": {},
   "outputs": [],
   "source": [
    "letter_game2 = montecarlo.montecarlo.Game([letter_die, letter_die, letter_die, letter_die, letter_die])\n",
    "letter_game2.play(num_rolls = 1000)"
   ]
  },
  {
   "cell_type": "code",
   "execution_count": 51,
   "metadata": {},
   "outputs": [],
   "source": [
    "letter_analyzer2 = montecarlo.montecarlo.Analyzer(letter_game2)\n",
    "permutations2 = letter_analyzer2.permutation_counts()\n",
    "permutation_idx2 = permutations2.index.to_flat_index()\n",
    "permutation_idxList2 = [\"\".join(list(item)) for item in permutation_idx2]"
   ]
  },
  {
   "cell_type": "code",
   "execution_count": 52,
   "metadata": {},
   "outputs": [
    {
     "data": {
      "text/plain": [
       "8"
      ]
     },
     "execution_count": 52,
     "metadata": {},
     "output_type": "execute_result"
    }
   ],
   "source": [
    "diff2 = [item for item in permutation_idxList2 if item not in words]\n",
    "diff_count2 = len(diff2)\n",
    "len(permutation_idxList2) - diff_count2"
   ]
  }
 ],
 "metadata": {
  "kernelspec": {
   "display_name": "Python 3",
   "language": "python",
   "name": "python3"
  },
  "language_info": {
   "codemirror_mode": {
    "name": "ipython",
    "version": 3
   },
   "file_extension": ".py",
   "mimetype": "text/x-python",
   "name": "python",
   "nbconvert_exporter": "python",
   "pygments_lexer": "ipython3",
   "version": "3.7.4"
  },
  "toc-autonumbering": true,
  "widgets": {
   "application/vnd.jupyter.widget-state+json": {
    "state": {},
    "version_major": 2,
    "version_minor": 0
   }
  }
 },
 "nbformat": 4,
 "nbformat_minor": 5
}
